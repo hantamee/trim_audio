{
 "cells": [
  {
   "cell_type": "code",
   "execution_count": 122,
   "id": "83781c66",
   "metadata": {
    "scrolled": false
   },
   "outputs": [
    {
     "name": "stdout",
     "output_type": "stream",
     "text": [
      "audio : C:/Users/hoy26/OneDrive/바탕 화면/dataset_0727/audio\\audio1661283623_작업완료_한승연_2022_07_20.wav\n",
      "text : C:/Users/hoy26/OneDrive/바탕 화면/dataset_0727/text\\audio1661283623_작업완료_한승연_2022_07_20.txt\n",
      "==============================================================================================================\n",
      "audio : C:/Users/hoy26/OneDrive/바탕 화면/dataset_0727/audio\\audio1661283623_작업완료_한승연_2022_07_20_0.wav\n",
      "text : C:/Users/hoy26/OneDrive/바탕 화면/dataset_0727/text\\audio1678210928_작업완료_한승연_2022_07_21.txt\n",
      "==============================================================================================================\n"
     ]
    }
   ],
   "source": [
    "import os\n",
    "import librosa\n",
    "import soundfile as sf\n",
    "from glob import glob\n",
    "import datetime\n",
    "import time\n",
    "\n",
    "#---------------------------------------------------------wav파일 처리---------------------------------------------------------\n",
    "def trim_audio(audio, sec_first_time, sec_last_time):\n",
    "    sr = 16000 #samplimg rate\n",
    "        \n",
    "    y, sr = librosa.load(audio, sr=sr)\n",
    "    \n",
    "    ny = y[sr * sec_first_time : sr * sec_last_time]\n",
    "    \n",
    "    save_file = audio[:-4] + \"_\" + str(sec_first_time)\n",
    "    #save_file = save_path + '/' + audio_name[:-4] + \"_\" + str(count)\n",
    "    sf.write(save_file + '.wav', ny, sr)\n",
    "    \n",
    "    return save_file\n",
    "    \n",
    "\n",
    "\n",
    "#---------------------------------------------------------txt파일 처리---------------------------------------------------------\n",
    "def trim_text(i, text):\n",
    "    #global sec_first_time, sec_last_time, first_time, last_time\n",
    "    global last_time\n",
    "    \n",
    "    #시작 시간 (HH:MM:SS)\n",
    "    first_time = text.split('\\t')[0]\n",
    "    \n",
    "    #STT결과 Text\n",
    "    label = text.split('\\t')[1].replace('\\n','')\n",
    "    \n",
    "    #끝나는 시간 (HH:MM:SS)\n",
    "    #last_time = text_info[-len(text_info) + i + 1].split('\\t')[0]\n",
    "    if i == len(text_info)-1:\n",
    "        # 마지막 구간 처리 필요\n",
    "        pass\n",
    "    else:\n",
    "        last_time = text_info[i+1].split('\\t')[0]\n",
    "        \n",
    "    #시작시간(first_time)과 끝나는시간(last_time)을 초단위로 표현\n",
    "    if i == 0:\n",
    "        x = time.strptime(first_time,\"\\ufeff%H:%M:%S\")\n",
    "        y = time.strptime(last_time,\"%H:%M:%S\")\n",
    "    else:\n",
    "        x = time.strptime(first_time,\"%H:%M:%S\")\n",
    "        y = time.strptime(last_time,\"%H:%M:%S\")\n",
    "\n",
    "\n",
    "    sec_first_time = int(datetime.timedelta(hours=x.tm_hour,minutes=x.tm_min,seconds=x.tm_sec).total_seconds())\n",
    "    sec_last_time = int(datetime.timedelta(hours=y.tm_hour,minutes=y.tm_min,seconds=y.tm_sec).total_seconds())\n",
    "    \n",
    "    return sec_first_time, sec_last_time, label\n",
    "\n",
    "#---------------------------------------------------------main---------------------------------------------------------\n",
    "\n",
    "base_path = 'C:/Users/hoy26/OneDrive/바탕 화면/dataset_0727'\n",
    "#base_path = 'C:/Users/USER/Desktop/전사 파일 작업 완료/2022_07_21_Vrew_완료_한승연/2022_07_21_Vrew_완료_한승연'\n",
    "\n",
    "audio_path = base_path + '/audio'\n",
    "text_path = base_path + '/text'\n",
    "save_path = base_path + '/save'\n",
    "\n",
    "#audio_list = os.listdir(audio_path)\n",
    "audio_list = glob(audio_path +'/*.wav') #경로가 포함된 .wav파일 list\n",
    "text_list = glob(text_path + '/*.txt') #경로가 포함된 .txt파일 list\n",
    "#print(audio_list)\n",
    "#print(text_list)\n",
    "\n",
    "transcript_list = []\n",
    "fname_list = []\n",
    "audio_data_list = []\n",
    "\n",
    "\n",
    "for audio, text in zip(audio_list, text_list): \n",
    "    print(\"audio : \" + audio)\n",
    "    print(\"text : \" + text)\n",
    "    print(\"=\"*110)\n",
    "    \n",
    "    with open(text, 'r', encoding='utf-8') as f:\n",
    "        text_info = f.readlines()\n",
    "        for i, text in enumerate(text_info):\n",
    "            audio_data_dic = {}\n",
    "            \n",
    "            sec_first_time, sec_last_time, label = trim_text(i, text)\n",
    "            audio_data_dic[\"transcript\"] = label\n",
    "\n",
    "            save_file = trim_audio(audio, sec_first_time, sec_last_time)\n",
    "            audio_data_dic[\"fname\"] = save_file\n",
    "            \n",
    "            audio_data_list.append(audio_data_dic)\n",
    "\n",
    "#print(audio_data_list)"
   ]
  },
  {
   "cell_type": "code",
   "execution_count": 125,
   "id": "13545f87",
   "metadata": {},
   "outputs": [
    {
     "name": "stdout",
     "output_type": "stream",
     "text": [
      "저장완료!\n"
     ]
    }
   ],
   "source": [
    "#결과를 json파일로 저장\n",
    "import json\n",
    "\n",
    "with open(\"trim_audio_file.json\", \"wt\") as json_file:\n",
    "    for file_data in audio_data_list:\n",
    "        #print(file_data)\n",
    "        json.dump(file_data, json_file, ensure_ascii=False, indent = '\\n')\n",
    "        #json.dump(',',json_file)\n",
    "print(\"저장완료!\")"
   ]
  },
  {
   "cell_type": "code",
   "execution_count": null,
   "id": "22e04cf2",
   "metadata": {},
   "outputs": [],
   "source": []
  }
 ],
 "metadata": {
  "kernelspec": {
   "display_name": "Python 3 (ipykernel)",
   "language": "python",
   "name": "python3"
  },
  "language_info": {
   "codemirror_mode": {
    "name": "ipython",
    "version": 3
   },
   "file_extension": ".py",
   "mimetype": "text/x-python",
   "name": "python",
   "nbconvert_exporter": "python",
   "pygments_lexer": "ipython3",
   "version": "3.9.7"
  }
 },
 "nbformat": 4,
 "nbformat_minor": 5
}
